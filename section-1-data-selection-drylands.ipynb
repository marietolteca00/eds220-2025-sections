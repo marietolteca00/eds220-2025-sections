{
 "cells": [
  {
   "cell_type": "markdown",
   "id": "075840ee-8482-47ef-9a93-45adc40f6f05",
   "metadata": {},
   "source": [
    "## Archive Exploration\n",
    "- What is this data about?\n",
    "Anthropods records of environmental data prey of listed species in California drylands. Includes distance to the nearest road from the census bureau. It includes rasters.\n",
    "- Is this data collected in-situ by the authors or is it a synthesis of multiple datasets?\n",
    "Synthesis of multiple datasets, data of elevation is retrieved from the USGS, GBIF, landcover and NDVI data come from MODIS and the LPDAAC, and Census bureau's TIGERS.\n",
    "- During what time frame were the observations in the dataset collected?\n",
    "\n",
    "- Does this dataset come with an associated metadata file?\n",
    "- Does the dataset contain sensitive data?"
   ]
  }
 ],
 "metadata": {
  "kernelspec": {
   "display_name": "EDS220",
   "language": "python",
   "name": "eds220-env"
  },
  "language_info": {
   "codemirror_mode": {
    "name": "ipython",
    "version": 3
   },
   "file_extension": ".py",
   "mimetype": "text/x-python",
   "name": "python",
   "nbconvert_exporter": "python",
   "pygments_lexer": "ipython3",
   "version": "3.11.4"
  }
 },
 "nbformat": 4,
 "nbformat_minor": 5
}
