{
 "cells": [
  {
   "cell_type": "code",
   "execution_count": 1,
   "id": "cf01a2c0-a0fe-4ddb-9b61-1439c4fea425",
   "metadata": {
    "tags": []
   },
   "outputs": [],
   "source": [
    "import pandas as pd"
   ]
  },
  {
   "cell_type": "code",
   "execution_count": null,
   "id": "418eff04-2459-42f3-b61c-e069ecd9bf02",
   "metadata": {},
   "outputs": [],
   "source": [
    "df = pd.read_csv('data/)"
   ]
  }
 ],
 "metadata": {
  "kernelspec": {
   "display_name": "EDS220",
   "language": "python",
   "name": "eds220-env"
  },
  "language_info": {
   "codemirror_mode": {
    "name": "ipython",
    "version": 3
   },
   "file_extension": ".py",
   "mimetype": "text/x-python",
   "name": "python",
   "nbconvert_exporter": "python",
   "pygments_lexer": "ipython3",
   "version": "3.11.4"
  }
 },
 "nbformat": 4,
 "nbformat_minor": 5
}
