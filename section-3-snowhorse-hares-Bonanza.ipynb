{
 "cells": [
  {
   "cell_type": "markdown",
   "id": "12dc5506-4d48-4606-b313-24ff4e417b0e",
   "metadata": {},
   "source": [
    "# 2. Adding an image\n",
    "Back in your notebook, follow these steps to add an image of a hare using a URL:\n",
    "\n",
    "Go to this link.\n",
    "\n",
    "Get the URL of the hare image. To do this:\n",
    "\n",
    "hover over the image –> right click –> “Copy Image Address”.\n",
    "At the end of the markdown cell with the dataset description, **use markdown sytanx** to add the image from its URL:"
   ]
  },
  {
   "cell_type": "markdown",
   "id": "5b2c8cdd-6751-4eab-80b7-f5144c0a3786",
   "metadata": {
    "tags": []
   },
   "source": [
    "![image description](https://upload.wikimedia.org/wikipedia/commons/thumb/8/8a/SNOWSHOE_HARE_%28Lepus_americanus%29_%285-28-2015%29_quoddy_head%2C_washington_co%2C_maine_-01_%2818988734889%29.jpg/1452px-SNOWSHOE_HARE_%28Lepus_americanus%29_%285-28-2015%29_quoddy_head%2C_washington_co%2C_maine_-01_%2818988734889%29.jpg?20170313021652)\n",
    "\n",
    "#No licensing required\n",
    "ALAN SCHMIERER, Set 72157600401137773, ID 18988734889, Original title SNOWSHOE HARE (Lepus americanus) (5-28-2015) quoddy head, washington co, maine -01"
   ]
  },
  {
   "cell_type": "markdown",
   "id": "1d610855-c6ef-4a50-a775-ab6500682529",
   "metadata": {},
   "source": [
    "# 3. Data loading and preliminary exploration\n"
   ]
  },
  {
   "cell_type": "markdown",
   "id": "4a62d485-b972-4f0a-a73b-f92571a002ac",
   "metadata": {
    "tags": []
   },
   "source": [
    "Back in your notebook, import the 55_Hare_Data_2012.txt file from its URL using the pandas.read_csv() function. Store it in a variable named hares.\n",
    "- Using pandas methods, obtain preliminary information and explore this data frame. Consider answering some of these questions:\n",
    "- What are the dimensions of the dataframe and what are the data types of the columns? Do the data types match what you would expect from each column?\n",
    "- Are there any columns that have a significant number of NA values?\n",
    "- What are the minimum and maximum values for the weight and hind feet measurements?\n",
    "- What are the unique values for some of the categorical columns?\n",
    "- An explroatory question about the data frame you come up with!"
   ]
  },
  {
   "cell_type": "code",
   "execution_count": 7,
   "id": "d87ce0ab-d7a0-49c1-bd5a-91d5e995f05c",
   "metadata": {
    "tags": []
   },
   "outputs": [],
   "source": [
    "import pandas as pd"
   ]
  },
  {
   "cell_type": "code",
   "execution_count": 12,
   "id": "b5f3690f-9f11-4ef1-a084-3b32dd825d5f",
   "metadata": {
    "tags": []
   },
   "outputs": [],
   "source": [
    "hares = pd.read_csv('https://pasta.lternet.edu/package/data/eml/knb-lter-bnz/55/22/f01f5d71be949b8c700b6ecd1c42c701')"
   ]
  },
  {
   "cell_type": "code",
   "execution_count": 14,
   "id": "d3becc23-ddec-43a7-a64d-a0890a37135f",
   "metadata": {
    "tags": []
   },
   "outputs": [
    {
     "data": {
      "text/plain": [
       "(3380, 14)"
      ]
     },
     "execution_count": 14,
     "metadata": {},
     "output_type": "execute_result"
    }
   ],
   "source": [
    "# Find dimensions of dataframe\n",
    "hares.shape"
   ]
  },
  {
   "cell_type": "code",
   "execution_count": 16,
   "id": "a954b0d7-cf2a-46c3-86ec-de27f5fb6f92",
   "metadata": {
    "tags": []
   },
   "outputs": [
    {
     "data": {
      "text/plain": [
       "14"
      ]
     },
     "execution_count": 16,
     "metadata": {},
     "output_type": "execute_result"
    }
   ],
   "source": [
    "hares.shape[0] # rows\n",
    "hares.shape[1] # columns"
   ]
  },
  {
   "cell_type": "code",
   "execution_count": 25,
   "id": "45741508-fb10-479b-8ed0-364a3b4ad232",
   "metadata": {
    "tags": []
   },
   "outputs": [
    {
     "data": {
      "text/plain": [
       "date           object\n",
       "time           object\n",
       "grid           object\n",
       "trap           object\n",
       "l_ear          object\n",
       "r_ear          object\n",
       "sex            object\n",
       "age            object\n",
       "weight        float64\n",
       "hindft        float64\n",
       "notes          object\n",
       "b_key         float64\n",
       "session_id      int64\n",
       "study          object\n",
       "dtype: object"
      ]
     },
     "execution_count": 25,
     "metadata": {},
     "output_type": "execute_result"
    }
   ],
   "source": [
    "# Data types for each column\n",
    "hares.dtypes"
   ]
  },
  {
   "cell_type": "code",
   "execution_count": 24,
   "id": "efbbbba8-1fb7-46b7-998a-1fdaebf9ae9d",
   "metadata": {
    "tags": []
   },
   "outputs": [
    {
     "data": {
      "text/plain": [
       "date             0\n",
       "time          3116\n",
       "grid             0\n",
       "trap            12\n",
       "l_ear           48\n",
       "r_ear          169\n",
       "sex            352\n",
       "age           2111\n",
       "weight         535\n",
       "hindft        1747\n",
       "notes         3137\n",
       "b_key           47\n",
       "session_id       0\n",
       "study          163\n",
       "dtype: int64"
      ]
     },
     "execution_count": 24,
     "metadata": {},
     "output_type": "execute_result"
    }
   ],
   "source": [
    "# Exploring NA values\n",
    "hares.isna().sum()\n",
    "# time, age, hindft, notes"
   ]
  },
  {
   "cell_type": "code",
   "execution_count": 30,
   "id": "643b748a-e0b5-4a8a-825a-77ce1b860a12",
   "metadata": {
    "tags": []
   },
   "outputs": [
    {
     "data": {
      "text/html": [
       "<div>\n",
       "<style scoped>\n",
       "    .dataframe tbody tr th:only-of-type {\n",
       "        vertical-align: middle;\n",
       "    }\n",
       "\n",
       "    .dataframe tbody tr th {\n",
       "        vertical-align: top;\n",
       "    }\n",
       "\n",
       "    .dataframe thead th {\n",
       "        text-align: right;\n",
       "    }\n",
       "</style>\n",
       "<table border=\"1\" class=\"dataframe\">\n",
       "  <thead>\n",
       "    <tr style=\"text-align: right;\">\n",
       "      <th></th>\n",
       "      <th>weight</th>\n",
       "      <th>hindft</th>\n",
       "    </tr>\n",
       "  </thead>\n",
       "  <tbody>\n",
       "    <tr>\n",
       "      <th>count</th>\n",
       "      <td>2845.000000</td>\n",
       "      <td>1633.000000</td>\n",
       "    </tr>\n",
       "    <tr>\n",
       "      <th>mean</th>\n",
       "      <td>1346.081547</td>\n",
       "      <td>130.872627</td>\n",
       "    </tr>\n",
       "    <tr>\n",
       "      <th>std</th>\n",
       "      <td>345.160112</td>\n",
       "      <td>16.155295</td>\n",
       "    </tr>\n",
       "    <tr>\n",
       "      <th>min</th>\n",
       "      <td>0.000000</td>\n",
       "      <td>60.000000</td>\n",
       "    </tr>\n",
       "    <tr>\n",
       "      <th>25%</th>\n",
       "      <td>1180.000000</td>\n",
       "      <td>128.000000</td>\n",
       "    </tr>\n",
       "    <tr>\n",
       "      <th>50%</th>\n",
       "      <td>1400.000000</td>\n",
       "      <td>135.000000</td>\n",
       "    </tr>\n",
       "    <tr>\n",
       "      <th>75%</th>\n",
       "      <td>1580.000000</td>\n",
       "      <td>140.000000</td>\n",
       "    </tr>\n",
       "    <tr>\n",
       "      <th>max</th>\n",
       "      <td>2365.000000</td>\n",
       "      <td>160.000000</td>\n",
       "    </tr>\n",
       "  </tbody>\n",
       "</table>\n",
       "</div>"
      ],
      "text/plain": [
       "            weight       hindft\n",
       "count  2845.000000  1633.000000\n",
       "mean   1346.081547   130.872627\n",
       "std     345.160112    16.155295\n",
       "min       0.000000    60.000000\n",
       "25%    1180.000000   128.000000\n",
       "50%    1400.000000   135.000000\n",
       "75%    1580.000000   140.000000\n",
       "max    2365.000000   160.000000"
      ]
     },
     "execution_count": 30,
     "metadata": {},
     "output_type": "execute_result"
    }
   ],
   "source": [
    "# min and max weight and feet measurements\n",
    "hares[['weight','hindft']].describe()"
   ]
  },
  {
   "cell_type": "code",
   "execution_count": 37,
   "id": "3a750823-bedf-45da-8f14-642a2ac1397c",
   "metadata": {
    "tags": []
   },
   "outputs": [
    {
     "data": {
      "text/plain": [
       "array(['Population', 'Collar', nan, 'Metabolic', 'Metabolic/Collar'],\n",
       "      dtype=object)"
      ]
     },
     "execution_count": 37,
     "metadata": {},
     "output_type": "execute_result"
    }
   ],
   "source": [
    "# What are the unique values for some of the categorical columns?\n",
    "hares['sex'].unique()\n",
    "hares['study'].unique()"
   ]
  },
  {
   "cell_type": "code",
   "execution_count": 44,
   "id": "c2d490de-7a6a-4fa3-a458-22cbe27acbaa",
   "metadata": {
    "tags": []
   },
   "outputs": [
    {
     "data": {
      "text/html": [
       "<div>\n",
       "<style scoped>\n",
       "    .dataframe tbody tr th:only-of-type {\n",
       "        vertical-align: middle;\n",
       "    }\n",
       "\n",
       "    .dataframe tbody tr th {\n",
       "        vertical-align: top;\n",
       "    }\n",
       "\n",
       "    .dataframe thead th {\n",
       "        text-align: right;\n",
       "    }\n",
       "</style>\n",
       "<table border=\"1\" class=\"dataframe\">\n",
       "  <thead>\n",
       "    <tr style=\"text-align: right;\">\n",
       "      <th></th>\n",
       "      <th>date</th>\n",
       "      <th>time</th>\n",
       "      <th>grid</th>\n",
       "      <th>trap</th>\n",
       "      <th>l_ear</th>\n",
       "      <th>r_ear</th>\n",
       "      <th>sex</th>\n",
       "      <th>age</th>\n",
       "      <th>weight</th>\n",
       "      <th>hindft</th>\n",
       "      <th>notes</th>\n",
       "      <th>b_key</th>\n",
       "      <th>session_id</th>\n",
       "      <th>study</th>\n",
       "    </tr>\n",
       "  </thead>\n",
       "  <tbody>\n",
       "    <tr>\n",
       "      <th>0</th>\n",
       "      <td>11/26/1998</td>\n",
       "      <td>NaN</td>\n",
       "      <td>bonrip</td>\n",
       "      <td>1A</td>\n",
       "      <td>414D096A08</td>\n",
       "      <td>NaN</td>\n",
       "      <td>NaN</td>\n",
       "      <td>NaN</td>\n",
       "      <td>1370.0</td>\n",
       "      <td>160.0</td>\n",
       "      <td>NaN</td>\n",
       "      <td>917.0</td>\n",
       "      <td>51</td>\n",
       "      <td>Population</td>\n",
       "    </tr>\n",
       "    <tr>\n",
       "      <th>1</th>\n",
       "      <td>11/26/1998</td>\n",
       "      <td>NaN</td>\n",
       "      <td>bonrip</td>\n",
       "      <td>2C</td>\n",
       "      <td>414D320671</td>\n",
       "      <td>NaN</td>\n",
       "      <td>M</td>\n",
       "      <td>NaN</td>\n",
       "      <td>1430.0</td>\n",
       "      <td>NaN</td>\n",
       "      <td>NaN</td>\n",
       "      <td>936.0</td>\n",
       "      <td>51</td>\n",
       "      <td>Population</td>\n",
       "    </tr>\n",
       "    <tr>\n",
       "      <th>2</th>\n",
       "      <td>11/26/1998</td>\n",
       "      <td>NaN</td>\n",
       "      <td>bonrip</td>\n",
       "      <td>2D</td>\n",
       "      <td>414D103E3A</td>\n",
       "      <td>NaN</td>\n",
       "      <td>M</td>\n",
       "      <td>NaN</td>\n",
       "      <td>1430.0</td>\n",
       "      <td>NaN</td>\n",
       "      <td>NaN</td>\n",
       "      <td>921.0</td>\n",
       "      <td>51</td>\n",
       "      <td>Population</td>\n",
       "    </tr>\n",
       "    <tr>\n",
       "      <th>3</th>\n",
       "      <td>11/26/1998</td>\n",
       "      <td>NaN</td>\n",
       "      <td>bonrip</td>\n",
       "      <td>2E</td>\n",
       "      <td>414D262D43</td>\n",
       "      <td>NaN</td>\n",
       "      <td>NaN</td>\n",
       "      <td>NaN</td>\n",
       "      <td>1490.0</td>\n",
       "      <td>135.0</td>\n",
       "      <td>NaN</td>\n",
       "      <td>931.0</td>\n",
       "      <td>51</td>\n",
       "      <td>Population</td>\n",
       "    </tr>\n",
       "    <tr>\n",
       "      <th>4</th>\n",
       "      <td>11/26/1998</td>\n",
       "      <td>NaN</td>\n",
       "      <td>bonrip</td>\n",
       "      <td>3B</td>\n",
       "      <td>414D2B4B58</td>\n",
       "      <td>NaN</td>\n",
       "      <td>NaN</td>\n",
       "      <td>NaN</td>\n",
       "      <td>1710.0</td>\n",
       "      <td>150.0</td>\n",
       "      <td>NaN</td>\n",
       "      <td>933.0</td>\n",
       "      <td>51</td>\n",
       "      <td>Population</td>\n",
       "    </tr>\n",
       "  </tbody>\n",
       "</table>\n",
       "</div>"
      ],
      "text/plain": [
       "         date time    grid trap       l_ear r_ear  sex  age  weight  hindft  \\\n",
       "0  11/26/1998  NaN  bonrip   1A  414D096A08   NaN  NaN  NaN  1370.0   160.0   \n",
       "1  11/26/1998  NaN  bonrip   2C  414D320671   NaN    M  NaN  1430.0     NaN   \n",
       "2  11/26/1998  NaN  bonrip   2D  414D103E3A   NaN    M  NaN  1430.0     NaN   \n",
       "3  11/26/1998  NaN  bonrip   2E  414D262D43   NaN  NaN  NaN  1490.0   135.0   \n",
       "4  11/26/1998  NaN  bonrip   3B  414D2B4B58   NaN  NaN  NaN  1710.0   150.0   \n",
       "\n",
       "  notes  b_key  session_id       study  \n",
       "0   NaN  917.0          51  Population  \n",
       "1   NaN  936.0          51  Population  \n",
       "2   NaN  921.0          51  Population  \n",
       "3   NaN  931.0          51  Population  \n",
       "4   NaN  933.0          51  Population  "
      ]
     },
     "execution_count": 44,
     "metadata": {},
     "output_type": "execute_result"
    }
   ],
   "source": [
    "hares_pop = hares[hares['study'] == \"Population\"]\n",
    "hares_pop.head()"
   ]
  },
  {
   "cell_type": "code",
   "execution_count": 56,
   "id": "5a64e6a0-6ade-4ea8-90ee-e143b9d26f9c",
   "metadata": {
    "tags": []
   },
   "outputs": [
    {
     "data": {
      "text/html": [
       "<div>\n",
       "<style scoped>\n",
       "    .dataframe tbody tr th:only-of-type {\n",
       "        vertical-align: middle;\n",
       "    }\n",
       "\n",
       "    .dataframe tbody tr th {\n",
       "        vertical-align: top;\n",
       "    }\n",
       "\n",
       "    .dataframe thead th {\n",
       "        text-align: right;\n",
       "    }\n",
       "</style>\n",
       "<table border=\"1\" class=\"dataframe\">\n",
       "  <thead>\n",
       "    <tr style=\"text-align: right;\">\n",
       "      <th></th>\n",
       "      <th>weight</th>\n",
       "      <th>hindft</th>\n",
       "      <th>b_key</th>\n",
       "      <th>session_id</th>\n",
       "    </tr>\n",
       "    <tr>\n",
       "      <th>trap</th>\n",
       "      <th></th>\n",
       "      <th></th>\n",
       "      <th></th>\n",
       "      <th></th>\n",
       "    </tr>\n",
       "  </thead>\n",
       "  <tbody>\n",
       "    <tr>\n",
       "      <th>7f</th>\n",
       "      <td>1640.000000</td>\n",
       "      <td>NaN</td>\n",
       "      <td>734.250000</td>\n",
       "      <td>35.750000</td>\n",
       "    </tr>\n",
       "    <tr>\n",
       "      <th>5c</th>\n",
       "      <td>1540.000000</td>\n",
       "      <td>NaN</td>\n",
       "      <td>63.000000</td>\n",
       "      <td>64.000000</td>\n",
       "    </tr>\n",
       "    <tr>\n",
       "      <th>7D</th>\n",
       "      <td>1535.000000</td>\n",
       "      <td>125.500000</td>\n",
       "      <td>388.777778</td>\n",
       "      <td>64.833333</td>\n",
       "    </tr>\n",
       "    <tr>\n",
       "      <th>4f</th>\n",
       "      <td>1534.166667</td>\n",
       "      <td>142.000000</td>\n",
       "      <td>487.125000</td>\n",
       "      <td>38.375000</td>\n",
       "    </tr>\n",
       "    <tr>\n",
       "      <th>9C</th>\n",
       "      <td>1525.000000</td>\n",
       "      <td>131.777778</td>\n",
       "      <td>433.400000</td>\n",
       "      <td>69.866667</td>\n",
       "    </tr>\n",
       "    <tr>\n",
       "      <th>...</th>\n",
       "      <td>...</td>\n",
       "      <td>...</td>\n",
       "      <td>...</td>\n",
       "      <td>...</td>\n",
       "    </tr>\n",
       "    <tr>\n",
       "      <th>4e</th>\n",
       "      <td>565.000000</td>\n",
       "      <td>90.000000</td>\n",
       "      <td>72.000000</td>\n",
       "      <td>50.000000</td>\n",
       "    </tr>\n",
       "    <tr>\n",
       "      <th>6b</th>\n",
       "      <td>450.000000</td>\n",
       "      <td>96.000000</td>\n",
       "      <td>76.000000</td>\n",
       "      <td>50.000000</td>\n",
       "    </tr>\n",
       "    <tr>\n",
       "      <th>4c</th>\n",
       "      <td>427.500000</td>\n",
       "      <td>87.500000</td>\n",
       "      <td>68.500000</td>\n",
       "      <td>50.000000</td>\n",
       "    </tr>\n",
       "    <tr>\n",
       "      <th>3g</th>\n",
       "      <td>NaN</td>\n",
       "      <td>NaN</td>\n",
       "      <td>975.000000</td>\n",
       "      <td>37.000000</td>\n",
       "    </tr>\n",
       "    <tr>\n",
       "      <th>4b</th>\n",
       "      <td>NaN</td>\n",
       "      <td>NaN</td>\n",
       "      <td>63.000000</td>\n",
       "      <td>64.000000</td>\n",
       "    </tr>\n",
       "  </tbody>\n",
       "</table>\n",
       "<p>121 rows × 4 columns</p>\n",
       "</div>"
      ],
      "text/plain": [
       "           weight      hindft       b_key  session_id\n",
       "trap                                                 \n",
       "7f    1640.000000         NaN  734.250000   35.750000\n",
       "5c    1540.000000         NaN   63.000000   64.000000\n",
       "7D    1535.000000  125.500000  388.777778   64.833333\n",
       "4f    1534.166667  142.000000  487.125000   38.375000\n",
       "9C    1525.000000  131.777778  433.400000   69.866667\n",
       "...           ...         ...         ...         ...\n",
       "4e     565.000000   90.000000   72.000000   50.000000\n",
       "6b     450.000000   96.000000   76.000000   50.000000\n",
       "4c     427.500000   87.500000   68.500000   50.000000\n",
       "3g            NaN         NaN  975.000000   37.000000\n",
       "4b            NaN         NaN   63.000000   64.000000\n",
       "\n",
       "[121 rows x 4 columns]"
      ]
     },
     "execution_count": 56,
     "metadata": {},
     "output_type": "execute_result"
    }
   ],
   "source": [
    "# Our Question: Groupby trap and get the average weight and sort values \n",
    "hares_pop = hares[hares['study'] == 'Population']\n",
    "hares_pop_mean_wt = hares.groupby('trap').mean('weight').sort_values('weight', ascending = False)\n",
    "hares_pop_mean_wt"
   ]
  },
  {
   "cell_type": "code",
   "execution_count": null,
   "id": "743162ad-4c52-49d6-a4b3-792cf7108db0",
   "metadata": {
    "tags": []
   },
   "outputs": [],
   "source": []
  },
  {
   "cell_type": "code",
   "execution_count": null,
   "id": "beed2867-84d6-4477-bef1-604580451507",
   "metadata": {},
   "outputs": [],
   "source": []
  }
 ],
 "metadata": {
  "kernelspec": {
   "display_name": "EDS220",
   "language": "python",
   "name": "eds220-env"
  },
  "language_info": {
   "codemirror_mode": {
    "name": "ipython",
    "version": 3
   },
   "file_extension": ".py",
   "mimetype": "text/x-python",
   "name": "python",
   "nbconvert_exporter": "python",
   "pygments_lexer": "ipython3",
   "version": "3.11.4"
  }
 },
 "nbformat": 4,
 "nbformat_minor": 5
}
