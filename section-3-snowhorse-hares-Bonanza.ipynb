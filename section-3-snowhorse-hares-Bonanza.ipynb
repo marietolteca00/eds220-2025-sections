{
 "cells": [
  {
   "cell_type": "markdown",
   "id": "12dc5506-4d48-4606-b313-24ff4e417b0e",
   "metadata": {},
   "source": [
    "# 2. Adding an image\n",
    "Back in your notebook, follow these steps to add an image of a hare using a URL:\n",
    "\n",
    "Go to this link.\n",
    "\n",
    "Get the URL of the hare image. To do this:\n",
    "\n",
    "hover over the image –> right click –> “Copy Image Address”.\n",
    "At the end of the markdown cell with the dataset description, **use markdown sytanx** to add the image from its URL:"
   ]
  },
  {
   "cell_type": "markdown",
   "id": "5b2c8cdd-6751-4eab-80b7-f5144c0a3786",
   "metadata": {
    "tags": []
   },
   "source": [
    "![image description](https://upload.wikimedia.org/wikipedia/commons/thumb/8/8a/SNOWSHOE_HARE_%28Lepus_americanus%29_%285-28-2015%29_quoddy_head%2C_washington_co%2C_maine_-01_%2818988734889%29.jpg/1452px-SNOWSHOE_HARE_%28Lepus_americanus%29_%285-28-2015%29_quoddy_head%2C_washington_co%2C_maine_-01_%2818988734889%29.jpg?20170313021652)\n",
    "\n",
    "\n",
    "ALAN SCHMIERER, Set 72157600401137773, ID 18988734889, Original title SNOWSHOE HARE (Lepus americanus) (5-28-2015) quoddy head, washington co, maine -01"
   ]
  },
  {
   "cell_type": "code",
   "execution_count": null,
   "id": "a741dc3a-d72e-4a4d-9964-a084b0059fcf",
   "metadata": {},
   "outputs": [],
   "source": []
  }
 ],
 "metadata": {
  "kernelspec": {
   "display_name": "EDS220",
   "language": "python",
   "name": "eds220-env"
  },
  "language_info": {
   "codemirror_mode": {
    "name": "ipython",
    "version": 3
   },
   "file_extension": ".py",
   "mimetype": "text/x-python",
   "name": "python",
   "nbconvert_exporter": "python",
   "pygments_lexer": "ipython3",
   "version": "3.11.4"
  }
 },
 "nbformat": 4,
 "nbformat_minor": 5
}
